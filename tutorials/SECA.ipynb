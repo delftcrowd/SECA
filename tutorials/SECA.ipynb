{
 "cells": [
  {
   "cell_type": "code",
   "execution_count": null,
   "metadata": {},
   "outputs": [],
   "source": [
    "from seca.saliency_maps import saliency_map_extraction"
   ]
  },
  {
   "cell_type": "code",
   "execution_count": null,
   "metadata": {},
   "outputs": [],
   "source": [
    "# Setup parameters\n",
    "path_images = \"example_data/test\"\n",
    "path_output = \"../output\"\n",
    "num_of_images = None"
   ]
  },
  {
   "cell_type": "code",
   "execution_count": null,
   "metadata": {},
   "outputs": [],
   "source": [
    "saliency_map_extraction(path_images, path_output, num_of_images)"
   ]
  }
 ],
 "metadata": {
  "interpreter": {
   "hash": "2a3c72bb44a8ef9464514a5fd19a2b38d6668281d8f551f613a0e46bcdf5f677"
  },
  "kernelspec": {
   "display_name": "Python 3.8.0 ('seca')",
   "language": "python",
   "name": "python3"
  },
  "language_info": {
   "codemirror_mode": {
    "name": "ipython",
    "version": 3
   },
   "file_extension": ".py",
   "mimetype": "text/x-python",
   "name": "python",
   "nbconvert_exporter": "python",
   "pygments_lexer": "ipython3",
   "version": "3.8.0"
  },
  "orig_nbformat": 4
 },
 "nbformat": 4,
 "nbformat_minor": 2
}
