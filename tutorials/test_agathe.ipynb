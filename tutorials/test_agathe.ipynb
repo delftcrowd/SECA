{
 "cells": [
  {
   "cell_type": "code",
   "execution_count": null,
   "id": "7a7989e2",
   "metadata": {},
   "outputs": [],
   "source": [
    "import numpy as np\n",
    "import pandas as pd\n",
    "\n",
    "\n",
    "\n",
    "from keras.applications.inception_v3 import preprocess_input as inception_preproc\n",
    "from keras.applications import InceptionV3\n",
    "from keras.preprocessing.image import ImageDataGenerator\n",
    "from keras import backend as K\n",
    "import tensorflow as tfu\n"
   ]
  },
  {
   "cell_type": "code",
   "execution_count": null,
   "id": "ec8d263d",
   "metadata": {},
   "outputs": [],
   "source": [
    "from __future__ import absolute_import, division, print_function, unicode_literals\n",
    "from keras.applications.inception_v3 import preprocess_input as inception_preproc\n",
    "from keras.applications import InceptionV3\n",
    "from keras.preprocessing.image import ImageDataGenerator\n",
    "from skimage.color import rgba2rgb\n",
    "import matplotlib.pyplot as plt\n",
    "from keras import backend as K\n",
    "from utils import load_image\n",
    "import tensorflow as tf\n",
    "from tqdm import tqdm\n",
    "import pandas as pd\n",
    "import numpy as np\n",
    "import saliency\n",
    "import os"
   ]
  },
  {
   "cell_type": "code",
   "execution_count": 1,
   "id": "25728b8e",
   "metadata": {},
   "outputs": [
    {
     "ename": "NameError",
     "evalue": "name 'K' is not defined",
     "output_type": "error",
     "traceback": [
      "\u001b[0;31m---------------------------------------------------------------------------\u001b[0m",
      "\u001b[0;31mNameError\u001b[0m                                 Traceback (most recent call last)",
      "Input \u001b[0;32mIn [1]\u001b[0m, in \u001b[0;36m<module>\u001b[0;34m\u001b[0m\n\u001b[0;32m----> 1\u001b[0m sess \u001b[38;5;241m=\u001b[39m \u001b[43mK\u001b[49m\u001b[38;5;241m.\u001b[39mget_session()\n\u001b[1;32m      2\u001b[0m graph \u001b[38;5;241m=\u001b[39m sess\u001b[38;5;241m.\u001b[39mgraph\n",
      "\u001b[0;31mNameError\u001b[0m: name 'K' is not defined"
     ]
    }
   ],
   "source": [
    "sess = K.get_session()\n",
    "graph = sess.graph"
   ]
  },
  {
   "cell_type": "code",
   "execution_count": null,
   "id": "d1e9c478",
   "metadata": {},
   "outputs": [],
   "source": [
    "def extract_heatmaps(images_dir, heatmap_dir, num_of_images):\n",
    "    \"\"\"\n",
    "        Sample images from the dataset and extract their heatmaps.\n",
    "        Args:\n",
    "            images_dir (str): path to dataset images that will be sampled\n",
    "            heatmap_dir (str): path to store the heatmaps\n",
    "            num_of_images (int): number of images to sample\n",
    "    \"\"\"\n",
    "    sess = K.get_session()\n",
    "    graph = sess.graph\n",
    "    with graph.as_default():  # registers graph as default graph. Operations will be added to the graph\n",
    "        model = InceptionV3(weights='imagenet')\n",
    "        images = graph.get_tensor_by_name('input_1:0')\n",
    "        logits = graph.get_tensor_by_name('predictions/Softmax:0')\n",
    "        neuron_selector = tf.placeholder(tf.int32)  # Used to select the logit of the prediction\n",
    "        y = logits[0][neuron_selector]  # logit of prediction\n",
    "        prediction = tf.argmax(logits, 1)\n",
    "\n",
    "        test_datagen = ImageDataGenerator(preprocessing_function=inception_preproc)\n",
    "        test_generator = test_datagen.flow_from_directory(images_dir, target_size=(299, 299), batch_size=1, class_mode='categorical', shuffle=False)\n",
    "        if num_of_images > len(test_generator.filenames):\n",
    "            raise ValueError('The number of annotations cannot be higher than the number of available images.')\n",
    "        image_selection = np.random.choice(len(test_generator.filenames), num_of_images)\n",
    "        selected_images = np.array(test_generator.filenames)[image_selection]\n",
    "        # Construct the saliency object.\n",
    "        gradient_saliency = saliency.GradientSaliency(graph, sess, y, images)\n",
    "        for i, img in enumerate(tqdm(selected_images)):\n",
    "            # Create the folder if it does not exist\n",
    "            if not os.path.exists(os.path.join(heatmap_dir, selected_images[i].split('/')[0])):\n",
    "                os.makedirs(os.path.join(heatmap_dir, selected_images[i].split('/')[0]))\n",
    "            # Skip if heatmap is already extracted\n",
    "            if os.path.exists(os.path.join(heatmap_dir, selected_images[i])):\n",
    "                continue\n",
    "            im_int = load_image(os.path.join(images_dir, img))\n",
    "            im = inception_preproc(im_int)\n",
    "            # Predict label\n",
    "            y_pred = sess.run(prediction, feed_dict={images: [im]})[0]\n",
    "            # Compute the vanilla mask and the smoothed mask.\n",
    "            smoothgrad_mask_3d = gradient_saliency.GetSmoothedMask(im, stdev_spread=.05, nsamples=10, feed_dict={neuron_selector: y_pred})\n",
    "            # Call the visualization methods to convert the 3D tensors to 2D grayscale.\n",
    "            smoothgrad_mask_grayscale = saliency.VisualizeImageGrayscale(smoothgrad_mask_3d)\n",
    "            # Extract images\n",
    "            cm = plt.get_cmap('inferno')\n",
    "            colored_heatmap = cm(smoothgrad_mask_grayscale)  # RGBA (A contains colormap) -> convert o RGB via rgba2rgb\n",
    "            image_overlay = 0.5 * (im_int/255) + 0.5 * rgba2rgb(colored_heatmap)  # img1*alpha + img2*(1-alpha)\n",
    "            plt.imsave(os.path.normpath(os.path.join(heatmap_dir + selected_images[i])), im_int)\n",
    "            plt.imsave(os.path.normpath(os.path.join(heatmap_dir + selected_images[i][:-5] + '_heatmap' + selected_images[i][-5:])), image_overlay)"
   ]
  }
 ],
 "metadata": {
  "kernelspec": {
   "display_name": "venv_agathe_refactoring",
   "language": "python",
   "name": "venv_agathe_refactoring"
  },
  "language_info": {
   "codemirror_mode": {
    "name": "ipython",
    "version": 3
   },
   "file_extension": ".py",
   "mimetype": "text/x-python",
   "name": "python",
   "nbconvert_exporter": "python",
   "pygments_lexer": "ipython3",
   "version": "3.9.5"
  }
 },
 "nbformat": 4,
 "nbformat_minor": 5
}
